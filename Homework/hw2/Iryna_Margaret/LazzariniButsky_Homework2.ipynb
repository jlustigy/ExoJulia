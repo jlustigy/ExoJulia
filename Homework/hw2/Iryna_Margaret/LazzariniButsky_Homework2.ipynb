{
 "cells": [
  {
   "cell_type": "markdown",
   "metadata": {},
   "source": [
    "## Mystery Planet RV Fitting"
   ]
  },
  {
   "cell_type": "code",
   "execution_count": 18,
   "metadata": {
    "collapsed": false,
    "scrolled": true
   },
   "outputs": [],
   "source": [
    "using PyPlot\n",
    "using LsqFit"
   ]
  },
  {
   "cell_type": "code",
   "execution_count": 19,
   "metadata": {
    "collapsed": false,
    "scrolled": true
   },
   "outputs": [],
   "source": [
    "data = readdlm(\"mystery_planet_1.txt\") ;"
   ]
  },
  {
   "cell_type": "code",
   "execution_count": 22,
   "metadata": {
    "collapsed": false
   },
   "outputs": [],
   "source": [
    "time = data[:,1]\n",
    "rv = data[:,2]\n",
    "err = data[:,3] ;"
   ]
  },
  {
   "cell_type": "code",
   "execution_count": 23,
   "metadata": {
    "collapsed": false
   },
   "outputs": [
    {
     "data": {
      "text/plain": [
       "Kepler (generic function with 1 method)"
      ]
     },
     "execution_count": 23,
     "metadata": {},
     "output_type": "execute_result"
    }
   ],
   "source": [
    "#Kepler's equation solver function from Homework 1\n",
    "function Kepler(M, e)\n",
    "    E_old = M\n",
    "    epsilon = 1.0\n",
    "    while epsilon > 1.0E-12\n",
    "        g = E_old - e*sin(E_old) - M\n",
    "        g_prime = 1.0 - e*cos(E_old)\n",
    "        E_new = E_old - (g/g_prime)\n",
    "        epsilon = abs(E_old - E_new)\n",
    "        E_old = E_new\n",
    "    end\n",
    "    return E_old\n",
    "end"
   ]
  },
  {
   "cell_type": "code",
   "execution_count": 24,
   "metadata": {
    "collapsed": false
   },
   "outputs": [
    {
     "data": {
      "text/plain": [
       "Period (generic function with 1 method)"
      ]
     },
     "execution_count": 24,
     "metadata": {},
     "output_type": "execute_result"
    }
   ],
   "source": [
    "function Period(time, rv)\n",
    "    num = 3000\n",
    "    periods = linspace(50.0, 300.0, num)\n",
    "    chisq = ones(num)\n",
    "    for i in range(1, num)\n",
    "        mods = mod(time, periods[i])\n",
    "        ind = sortperm(mods)\n",
    "        newrv = rv[ind]\n",
    "        sum = 0.0\n",
    "        for k in range(1,length(time)-1)\n",
    "            sum += (newrv[k+1]-newrv[k])^2.\n",
    "        end\n",
    "        chisq[i] = sum\n",
    "    end\n",
    "    #scatter(periods,chisq)\n",
    "    #yscale(\"log\")\n",
    "    \n",
    "    return periods[indmin(chisq)] \n",
    "end"
   ]
  },
  {
   "cell_type": "code",
   "execution_count": 25,
   "metadata": {
    "collapsed": false,
    "scrolled": false
   },
   "outputs": [
    {
     "data": {
      "image/png": "[encoded data removed]",
      "text/plain": [
       "PyPlot.Figure(PyObject <matplotlib.figure.Figure object at 0x31519bf90>)"
      ]
     },
     "metadata": {},
     "output_type": "display_data"
    },
    {
     "data": {
      "text/plain": [
       "PyObject <matplotlib.collections.PathCollection object at 0x31524b510>"
      ]
     },
     "execution_count": 25,
     "metadata": {},
     "output_type": "execute_result"
    }
   ],
   "source": [
    "per = Period(time,rv)\n",
    "scatter(mod(time,per),rv)"
   ]
  },
  {
   "cell_type": "code",
   "execution_count": 26,
   "metadata": {
    "collapsed": false
   },
   "outputs": [
    {
     "data": {
      "text/plain": [
       "vrad (generic function with 1 method)"
      ]
     },
     "execution_count": 26,
     "metadata": {},
     "output_type": "execute_result"
    }
   ],
   "source": [
    "#Define parameter vector p[Period1, eccentricity2, time of periastron3, h4, c5, v_06]\n",
    "\n",
    "function vrad(t, p)\n",
    "    rv_model = zeros(length(t))\n",
    "    if (p[2] >= 1) || (p[2] < 0)\n",
    "      return rv_model\n",
    "    end\n",
    "    for i in range(1, length(t))\n",
    "        M = 2.0*pi / p[1] * (t[i] - p[3])\n",
    "        E = Kepler(M, p[2])\n",
    "        f = 2.0 * atan(((1.0 + p[2])/(1.0 - p[2]))^0.5 * tan(E/2.0))\n",
    "        rv_model[i] = p[4]*cos(f) + p[5]*sin(f) + p[6]\n",
    "    end\n",
    "    return rv_model\n",
    "end\n",
    "\n"
   ]
  },
  {
   "cell_type": "code",
   "execution_count": 27,
   "metadata": {
    "collapsed": false,
    "scrolled": false
   },
   "outputs": [
    {
     "name": "stdout",
     "output_type": "stream",
     "text": [
      "Array{Float64,1}\n"
     ]
    }
   ],
   "source": [
    "#p = [period, ecc, t_peri, h, c, v0]\n",
    "#Define initial guesses:\n",
    "K = (maximum(rv)-minimum(rv))/2\n",
    "\n",
    "p = ones(6)\n",
    "p[1] = per\n",
    "p[2] = 0.5\n",
    "p[3] = rand()*per\n",
    "p[4] = K/2\n",
    "p[5] = K/2\n",
    "p[6] = 1.0\n",
    "\n",
    "errors = 1.0./(err.^2.0);\n",
    "println(typeof(errors))\n",
    "#vrad_model = vrad(time, p)\n",
    "#scatter(time,rv)\n",
    "#plot(time,vrad_model)"
   ]
  },
  {
   "cell_type": "code",
   "execution_count": 29,
   "metadata": {
    "collapsed": false,
    "scrolled": false
   },
   "outputs": [],
   "source": [
    "fit = curve_fit(vrad,time,rv,p)\n",
    "vfit = vrad(time,fit.param) ;"
   ]
  },
  {
   "cell_type": "code",
   "execution_count": 39,
   "metadata": {
    "collapsed": false
   },
   "outputs": [
    {
     "name": "stdout",
     "output_type": "stream",
     "text": [
      "Parameters: \n",
      "Period = 116.68109253772053\n",
      "Eccentricity = 0.40130863290687\n",
      "Time of Periastron = 6.326219584609994\n"
     ]
    }
   ],
   "source": [
    "println(\"Parameters: \")\n",
    "println(\"Period = \", fit.param[1])\n",
    "println(\"Eccentricity = \", fit.param[2])\n",
    "println(\"Time of Periastron = \", fit.param[3])"
   ]
  },
  {
   "cell_type": "code",
   "execution_count": 37,
   "metadata": {
    "collapsed": false,
    "scrolled": false
   },
   "outputs": [
    {
     "data": {
      "image/png": "[encoded data removed]",
      "text/plain": [
       "PyPlot.Figure(PyObject <matplotlib.figure.Figure object at 0x3154d9c90>)"
      ]
     },
     "metadata": {},
     "output_type": "display_data"
    },
    {
     "data": {
      "text/plain": [
       "PyObject <matplotlib.legend.Legend object at 0x316a39d50>"
      ]
     },
     "execution_count": 37,
     "metadata": {},
     "output_type": "execute_result"
    }
   ],
   "source": [
    "scatter(mod(time,fit.param[1]),rv, color=\"b\", label=\"data\")\n",
    "scatter(mod(time,fit.param[1]),vfit,color=\"r\", label=\"fit\")\n",
    "legend()"
   ]
  },
  {
   "cell_type": "markdown",
   "metadata": {},
   "source": [
    "## f and g functions"
   ]
  },
  {
   "cell_type": "code",
   "execution_count": 43,
   "metadata": {
    "collapsed": false
   },
   "outputs": [
    {
     "ename": "LoadError",
     "evalue": "LoadError: UndefVarError: mass not defined\nwhile loading In[43], in expression starting on line 11",
     "output_type": "error",
     "traceback": [
      "LoadError: UndefVarError: mass not defined\nwhile loading In[43], in expression starting on line 11",
      ""
     ]
    }
   ],
   "source": [
    "G = 6.67259E-8 #Gravitational Constant in cgs\n",
    "\n",
    "per = fit.param[1]\n",
    "ecc = fit.param[2]\n",
    "t_peri = fit.param[3]\n",
    "\n",
    "t0 = time[1]\n",
    "M0 = 2.0*pi / per * (t0 - t_peri)\n",
    "E0 = Kepler(M0, ecc)\n",
    "v0 = fit.param[6]\n",
    "a = (G*mass*(per / (2*pi)^2.0))^(1./3.)\n",
    "r0 = (a, 0.0)\n",
    "\n",
    "function f_func(t, t0, M, a)\n",
    "    E = Kepler(M, ecc)\n",
    "    return a / r0 * (cos(E - E0)+1.0)\n",
    "end\n",
    "\n",
    "function g_func(t, t0, M, a)\n",
    "    E = Kepler(M, ecc)\n",
    "    first = t - t0\n",
    "    second = per/(2*pi) * (sin(E-E0) - (E-E0))\n",
    "    return first + second\n",
    "end\n",
    "    "
   ]
  }
 ],
 "metadata": {
  "kernelspec": {
   "display_name": "Julia 0.4.5",
   "language": "julia",
   "name": "julia-0.4"
  },
  "language_info": {
   "file_extension": ".jl",
   "mimetype": "application/julia",
   "name": "julia",
   "version": "0.4.5"
  }
 },
 "nbformat": 4,
 "nbformat_minor": 0
}

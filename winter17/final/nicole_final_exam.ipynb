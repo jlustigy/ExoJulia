{
 "cells": [
  {
   "cell_type": "code",
   "execution_count": 1,
   "metadata": {
    "collapsed": false
   },
   "outputs": [],
   "source": [
    "import matplotlib.pyplot as plt\n",
    "import scipy.optimize\n",
    "import pandas as pd\n",
    "import numpy as np\n",
    "import scipy \n",
    "G     = 6.67 * 10**(-8.)  # cm^3 g^-1 s^-2\n",
    "sigma = 5.67 * 10**(-5.)  # erg cm^-2 K^-4 s^-1\n",
    "M_sun = 1.99 * 10**33.    # g\n",
    "R_sun = 6.96 * 10**10.    # cm\n",
    "M_earth   = 5.976 * 10**27. # g\n",
    "R_earth   = 6.378 * 10**8.  # cm\n",
    "F_inc_earth = 1.36 * 10**6. # erg cm^-2 sec^-1 \n",
    "sun2earth = 333000        # earth masses\n",
    "pc2cm = 3.086 * 10**18.   # cm in a parsec\n",
    "d2s   = 86400             # seconds in a day\n",
    "pi    = np.pi"
   ]
  },
  {
   "cell_type": "markdown",
   "metadata": {},
   "source": [
    "# ASTR 597, W17: Final Exam"
   ]
  },
  {
   "cell_type": "markdown",
   "metadata": {},
   "source": [
    "$\\textbf{Problem 1: }$\n",
    "\n",
    "$\\textbf{Part a:}$"
   ]
  },
  {
   "cell_type": "code",
   "execution_count": 2,
   "metadata": {
    "collapsed": false
   },
   "outputs": [
    {
     "name": "stdout",
     "output_type": "stream",
     "text": [
      "0.723 8.02648465965101\n"
     ]
    }
   ],
   "source": [
    "# Part a: Estimate alpha and f(alpha)\n",
    "a_venus = 0.723    # AU, semi-major axis of Venus\n",
    "a_earth = 1        # AU, semi-major axis of Earth\n",
    "\n",
    "alpha   = a_venus/a_earth\n",
    "f_alpha = 10**(-0.06 - (2.44*alpha) + (5.22*(alpha**2.)))\n",
    "\n",
    "print(alpha,f_alpha)"
   ]
  },
  {
   "cell_type": "markdown",
   "metadata": {},
   "source": [
    "For Venus and Earth, $\\alpha$ = 0.723 and f($\\alpha$) ~ 8.026."
   ]
  },
  {
   "cell_type": "markdown",
   "metadata": {},
   "source": [
    "$\\textbf{Part b:}$"
   ]
  },
  {
   "cell_type": "markdown",
   "metadata": {},
   "source": [
    "The synodic frequency refers to to the frequency of alignments (or conjunctions) between the inner and outer (or secondary) bodies. This frequency comes about due to the periodicity of the inner planet's orbit fluctuation (or variation) depending on the outer planet's affecting gravitational force. This dependency is what allows us to use the TTV method to determine information about this system. \n",
    "\n",
    "Physically, the distribution of the planetary system is the cause of this dependency as the outer/secondary planet pulls or pushes the inner planet depending on their position in their orbits. These push/pulls change the speed of the inner planet's orbit, causing variations in the transit times of the planet. So, these variations give rise to the aforementioned synodic frequency which spans the frequency between the conjunctions of these two bodies or the \"restarting\" point of the periodic cycle of transit variations."
   ]
  },
  {
   "cell_type": "markdown",
   "metadata": {},
   "source": [
    "$\\textbf{Part c:}$"
   ]
  },
  {
   "cell_type": "code",
   "execution_count": 3,
   "metadata": {
    "collapsed": false
   },
   "outputs": [
    {
     "name": "stdout",
     "output_type": "stream",
     "text": [
      "0.7449548572293988\n"
     ]
    }
   ],
   "source": [
    "# Assume constants and get dt_chop from plot\n",
    "P_venus        = 243 #days\n",
    "P_earth        = 365 #days\n",
    "dt_chop        = 1 #min, from plot\n",
    "dt_chop        = dt_chop/60/24 #days\n",
    "\n",
    "def get_m_2(P_1,dt_chop,f_alpha):\n",
    "    global pi\n",
    "    m_2 = dt_chop*(2*pi/(P_1*f_alpha))\n",
    "    return m_2    # solar masses\n",
    "\n",
    "m_earth = get_m_2(P_venus,dt_chop,f_alpha)\n",
    "print(m_earth*sun2earth)"
   ]
  },
  {
   "cell_type": "markdown",
   "metadata": {},
   "source": [
    "The calculated Earth mass is ~0.74 M$_{\\oplus}$."
   ]
  },
  {
   "cell_type": "markdown",
   "metadata": {},
   "source": [
    "$\\textbf{Part d:}$"
   ]
  },
  {
   "cell_type": "markdown",
   "metadata": {},
   "source": [
    "TTV's scale with the transiting period of the inner planet as this the the physical measurement that is being made. In other words, the inner planet's orbit is being lengthened and shortened by the gravitational pull of the outer/secondary planet. This physical change occuring to the orbit is the variable that TTV's are measuring. Since this change to the inner planet's orbit is caused by the gravitational force of secondary planet, the TTV scales with the secondary planet's mass since this value dictates the scale of that force."
   ]
  },
  {
   "cell_type": "markdown",
   "metadata": {},
   "source": [
    "$\\textbf{Part e:}$"
   ]
  },
  {
   "cell_type": "markdown",
   "metadata": {},
   "source": [
    "The pitfalls of the TTV Method:\n",
    "- Requires a lot of time to monitor the planets and observe multiple transits\n",
    "- Needs good timing precision to determine variations in transit times\n",
    "- There are a number of degeneracies that arise:\n",
    "     - period \n",
    "     - eccentricity-eccentricity\n",
    "     - mass-eccentricity \n",
    "     \n",
    "*** Some of these degeneracies can be broken by examining multiple planet transits and other degeneracy frequencies"
   ]
  },
  {
   "cell_type": "markdown",
   "metadata": {},
   "source": [
    " "
   ]
  },
  {
   "cell_type": "markdown",
   "metadata": {},
   "source": [
    "$\\textbf{Problem 2}$"
   ]
  },
  {
   "cell_type": "code",
   "execution_count": 4,
   "metadata": {
    "collapsed": true
   },
   "outputs": [],
   "source": [
    "df = pd.read_csv('nature21360-f1_folded.csv',names=['Planet','TimefromMidTransit','Flux','Error','TransitModel'],skiprows=1)"
   ]
  },
  {
   "cell_type": "code",
   "execution_count": 5,
   "metadata": {
    "collapsed": false,
    "scrolled": true
   },
   "outputs": [],
   "source": [
    "df_b = df[df.Planet == 'b']\n",
    "df_c = df[df.Planet == 'c']\n",
    "df_d = df[df.Planet == 'd']\n",
    "df_e = df[df.Planet == 'e']\n",
    "df_f = df[df.Planet == 'f']\n",
    "df_g = df[df.Planet == 'g']\n",
    "df_h = df[df.Planet == 'h']\n",
    "\n",
    "b_P,c_P,d_P,e_P,f_P,g_P = 1.51087081,2.4218233,4.049610,6.099615,9.206690,12.35294\n",
    "colors  = ['IndianRed','Salmon','Orange','Green','SkyBlue','SteelBlue','Purple']\n",
    "planets = ['b','c','d','e','f','g','h']\n",
    "offset = 0.01\n",
    "\n",
    "astar_F_bol = 1.12 * 10**-10.  # erg cm^-2 s^-1\n",
    "astar_dist  = 12.2 * pc2cm     # cm\n",
    "astar_T_eff = 2560             # K"
   ]
  },
  {
   "cell_type": "code",
   "execution_count": 6,
   "metadata": {
    "collapsed": false
   },
   "outputs": [],
   "source": [
    "def get_radius_ratio(transit_depth):\n",
    "    # k^2 = (R_p/R_star)^2\n",
    "    k = (transit_depth)**0.5\n",
    "    return k\n",
    "\n",
    "def get_impact_param(radius_ratio,transit_time,ingress):\n",
    "    if (1-(radius_ratio*transit_time/ingress)) < 0:\n",
    "        #print('negative impact param!')\n",
    "        b = 0\n",
    "    else:\n",
    "        b = (1-(radius_ratio*transit_time/ingress))**0.5\n",
    "    return b\n",
    "\n",
    "def get_density(period,transit_time,impact_param):\n",
    "    global G,pi\n",
    "    rho = (3./(pi**2.))*((period*d2s)/(G*(transit_time*d2s)**3.))*(1-(impact_param**2))**(3./2)\n",
    "    return rho\n",
    "\n",
    "def get_stellar_radius(F_bol,T_eff,distance):\n",
    "    global sigma\n",
    "    R_s = ((F_bol/(sigma * (T_eff**4.))) * distance**2.)**0.5\n",
    "    return R_s\n",
    "\n",
    "def get_RV_amp(period,planet_mass,stellar_mass):\n",
    "    global G,pi\n",
    "    A = (2*pi*G/(period*d2s))**(1./3.) * ((planet_mass*M_earth)/\n",
    "                                    ((astar_mass) + (planet_mass*M_earth))**(2./3.))\n",
    "    return A\n",
    "\n",
    "def get_F_incident(planet_radius_ratio):\n",
    "    global pi,astar_F_bol\n",
    "    F_inc = astar_F_bol * pi * (planet_radius_ratio*astar_radius)**2.\n",
    "    return F_inc # ergs/s\n",
    "\n",
    "def get_mass_watery(x):\n",
    "    global k_1,k_2,k_3,radius\n",
    "    M_1,R_1 = 6.41,3.63\n",
    "    y = [k_1 + (np.log10(x[0]/M_1)/3) - k_2*(x[0]/M_1)**k_3 - np.log10(radius/R_1)]\n",
    "    return y\n",
    "\n",
    "def get_mass_rocky(x):\n",
    "    global k_1,k_2,k_3,radius\n",
    "    M_1,R_1 = 7.38,3.58\n",
    "    y = [k_1 + (np.log10(x[0]/M_1)/3) - k_2*(x[0]/M_1)**k_3 - np.log10(radius/R_1)]\n",
    "    return y\n",
    "\n",
    "def get_mass_earthy(x):\n",
    "    global k_1,k_2,k_3,radius\n",
    "    M_1,R_1 = 6.41,3.19\n",
    "    y = [k_1 + (np.log10(x[0]/M_1)/3) - k_2*(x[0]/M_1)**k_3 - np.log10(radius/R_1)]\n",
    "    return y"
   ]
  },
  {
   "cell_type": "code",
   "execution_count": 7,
   "metadata": {
    "collapsed": false
   },
   "outputs": [
    {
     "data": {
      "image/png": "[encoded data removed]",
      "text/plain": [
       "<matplotlib.figure.Figure at 0x10eb4ea20>"
      ]
     },
     "metadata": {},
     "output_type": "display_data"
    }
   ],
   "source": [
    "plt.plot(df_b.TimefromMidTransit,df_b.Flux,'.',color=colors[0],alpha=0.5,label=planets[0])\n",
    "plt.plot(df_c.TimefromMidTransit,df_c.Flux-offset,'.',\n",
    "         color=colors[1],alpha=0.5,label=planets[1])\n",
    "plt.plot(df_d.TimefromMidTransit,df_d.Flux-offset*2,'.',\n",
    "         color=colors[2],alpha=0.5,label=planets[2])\n",
    "plt.plot(df_e.TimefromMidTransit,df_e.Flux-offset*3,'.',\n",
    "         color=colors[3],alpha=0.5,label=planets[3])\n",
    "plt.plot(df_f.TimefromMidTransit,df_f.Flux-offset*4,'.',\n",
    "         color=colors[4],alpha=0.5,label=planets[4])\n",
    "plt.plot(df_g.TimefromMidTransit,df_g.Flux-offset*5,'.',\n",
    "         color=colors[5],alpha=0.5,label=planets[5])\n",
    "plt.plot(df_h.TimefromMidTransit,df_h.Flux-offset*6,'.',\n",
    "         color=colors[6],alpha=0.5,label=planets[6])\n",
    "plt.ylim(0.93,1.005)\n",
    "plt.xlim(-0.05,0.05)\n",
    "plt.legend()\n",
    "plt.title('Trappist-1 System Folded Lightcurves')\n",
    "plt.show()"
   ]
  },
  {
   "cell_type": "markdown",
   "metadata": {},
   "source": [
    "$\\textbf{Part a & c:}$"
   ]
  },
  {
   "cell_type": "code",
   "execution_count": 8,
   "metadata": {
    "collapsed": false,
    "scrolled": true
   },
   "outputs": [
    {
     "data": {
      "image/png": "[encoded data removed]",
      "text/plain": [
       "<matplotlib.figure.Figure at 0x10eb4e278>"
      ]
     },
     "metadata": {},
     "output_type": "display_data"
    },
    {
     "name": "stdout",
     "output_type": "stream",
     "text": [
      "The radius ratio for planet b is:     0.0901\n",
      "The impact parameter for planet b is: 0.6923\n",
      "The density for planet b is:          22.1529 g cm^-3\n"
     ]
    }
   ],
   "source": [
    "# Planet b: get radius ratio, impact parameters, and density\n",
    "i   = 0\n",
    "plt.plot(df_b.TimefromMidTransit,df_b.Flux,'.',color=colors[i],alpha=0.5)\n",
    "plt.xlim(-0.014,0.014)\n",
    "plt.plot(-0.012344,1.000440,'o',color='Grey')\n",
    "plt.plot(-0.008015,0.992317,'o',color='Grey')\n",
    "plt.plot(0.012666,0.999710,'o',color='Grey')\n",
    "plt.show()\n",
    "#print(df_b[(df_b.TimefromMidTransit < 0.015) & (df_b.TimefromMidTransit > -0.014)])\n",
    "\n",
    "# Index values for ingress/transit depth: 517, 555; and transit duration: 754\n",
    "b_transit_d = 1.000440 - 0.992317      # flux\n",
    "b_ingress   = -0.008015 - (-0.012344)  # days\n",
    "b_transit_t = 0.012666 - (-0.012344)   # days\n",
    "\n",
    "b_k = get_radius_ratio(b_transit_d)\n",
    "b_b = get_impact_param(b_k,b_transit_t,b_ingress)\n",
    "b_rho = get_density(b_P,b_transit_t,b_b)\n",
    "\n",
    "print('The radius ratio for planet '+ planets[i] + ' is:     '+ str(round(b_k,4)))\n",
    "print('The impact parameter for planet '+ planets[i] + ' is: '+ str(round(b_b,4)))\n",
    "print('The density for planet '+ planets[i] + ' is:          '+ str(round(b_rho,4)),r'g cm^-3')"
   ]
  },
  {
   "cell_type": "code",
   "execution_count": 9,
   "metadata": {
    "collapsed": false,
    "scrolled": true
   },
   "outputs": [
    {
     "data": {
      "image/png": "[encoded data removed]",
      "text/plain": [
       "<matplotlib.figure.Figure at 0x10ed15a20>"
      ]
     },
     "metadata": {},
     "output_type": "display_data"
    },
    {
     "name": "stdout",
     "output_type": "stream",
     "text": [
      "The radius ratio for planet c is:     0.0833\n",
      "The impact parameter for planet c is: 0\n",
      "The density for planet c is:          56.2407 g cm^-3\n"
     ]
    }
   ],
   "source": [
    "# Planet c: get radius ratio, impact parameters, and density\n",
    "i = 1\n",
    "plt.plot(df_c.TimefromMidTransit,df_c.Flux,'.',alpha=0.5,color=colors[i])\n",
    "plt.xlim(-0.0175,0.02)\n",
    "plt.plot(-0.014212,1.000369,'o',color='Grey')\n",
    "plt.plot(-0.011994,0.993428,'o',color='Grey')\n",
    "plt.plot(0.015522,1.000137,'o',color='Grey')\n",
    "plt.show()\n",
    "#print(df_c[(df_c.TimefromMidTransit < 0.02) & (df_c.TimefromMidTransit > 0.01)])\n",
    "\n",
    "# Index values for ingress/transit depth: 2093, 2109 ; and transit duration: 2309\n",
    "c_transit_d = 1.000369 - 0.993428     # flux\n",
    "c_ingress   = -0.011994 - (-0.014212) # days\n",
    "c_transit_t = 0.015522 - (-0.014212)  # days\n",
    "\n",
    "\n",
    "#print(c_transit_d,c_ingress,c_transit_t)\n",
    "c_k = get_radius_ratio(c_transit_d)\n",
    "c_b = get_impact_param(c_k,c_transit_t,c_ingress)\n",
    "c_rho = get_density(c_P,c_transit_t,c_b)\n",
    "\n",
    "print('The radius ratio for planet '+ planets[i] + ' is:     '+ str(round(c_k,4)))\n",
    "print('The impact parameter for planet '+ planets[i] + ' is: '+ str(round(c_b,4)))\n",
    "print('The density for planet '+ planets[i] + ' is:          '+ str(round(c_rho,4)),r'g cm^-3')"
   ]
  },
  {
   "cell_type": "code",
   "execution_count": 10,
   "metadata": {
    "collapsed": false,
    "scrolled": true
   },
   "outputs": [
    {
     "data": {
      "image/png": "[encoded data removed]",
      "text/plain": [
       "<matplotlib.figure.Figure at 0x10eee6e10>"
      ]
     },
     "metadata": {},
     "output_type": "display_data"
    },
    {
     "name": "stdout",
     "output_type": "stream",
     "text": [
      "The radius ratio for planet d is:      0.0596\n",
      "The impact parameter for planet d is:  0.8561\n",
      "The density for planet d is:           11.3284 g cm^-3\n"
     ]
    }
   ],
   "source": [
    "# Planet d: get radius ratio, impact parameters, and density\n",
    "i = 2\n",
    "plt.plot(df_d.TimefromMidTransit,df_d.Flux,'.',alpha=0.5,color=colors[i])\n",
    "plt.xlim(-0.03,0.03)\n",
    "plt.plot(-0.019327,0.999593,'o',color='Grey')\n",
    "plt.plot(-0.012378,0.996035,'o',color='Grey')\n",
    "plt.plot(0.018736,0.999815,'o',color='Grey')\n",
    "plt.show()\n",
    "#print(df_d[(df_d.TimefromMidTransit > -0.0) & (df_d.TimefromMidTransit < 0.025)])\n",
    "\n",
    "# Index values for ingress/transit depth: 3223, 3247 ; and transit duration: 3351\n",
    "d_transit_d = 0.999593 - 0.996035      # flux\n",
    "d_ingress   = -0.012378 - (-0.019327)  # days\n",
    "d_transit_t = 0.018736 - (-0.012378)   # days\n",
    "\n",
    "d_k = get_radius_ratio(d_transit_d)\n",
    "d_b = get_impact_param(d_k,d_transit_t,d_ingress)\n",
    "d_rho = get_density(d_P,d_transit_t,d_b)\n",
    "\n",
    "print('The radius ratio for planet '+ planets[i] + ' is:      '+ str(round(d_k,4)))\n",
    "print('The impact parameter for planet '+ planets[i] + ' is:  '+ str(round(d_b,4)))\n",
    "print('The density for planet '+ planets[i] + ' is:          ', round(d_rho,4),r'g cm^-3')"
   ]
  },
  {
   "cell_type": "code",
   "execution_count": 11,
   "metadata": {
    "collapsed": false
   },
   "outputs": [
    {
     "data": {
      "image/png": "[encoded data removed]",
      "text/plain": [
       "<matplotlib.figure.Figure at 0x11245ca90>"
      ]
     },
     "metadata": {},
     "output_type": "display_data"
    },
    {
     "name": "stdout",
     "output_type": "stream",
     "text": [
      "The radius ratio for planet e is:      0.0764\n",
      "The impact parameter for planet e is:  0.5166\n",
      "The density for planet e is:           37.0754 g cm^-3\n"
     ]
    }
   ],
   "source": [
    "# Planet e: get radius ratio, impact parameters, and density\n",
    "i = 3\n",
    "plt.plot(df_e.TimefromMidTransit,df_e.Flux,'.',alpha=0.5,color=colors[i])\n",
    "plt.xlim(-0.03,0.03)\n",
    "plt.plot(-0.019424,0.999964,'o',color='Grey')\n",
    "plt.plot(-0.015276,0.994126,'o',color='Grey')\n",
    "plt.plot(0.020376,0.999496,'o',color='Grey')\n",
    "plt.show()\n",
    "#print(df_e[(df_e.TimefromMidTransit > 0.01) & (df_e.TimefromMidTransit < 0.03)])\n",
    "\n",
    "# Index values for ingress/transit depth: 3862, 3867 ; and transit duration: 3913\n",
    "e_transit_d = 0.999964 - 0.994126      # flux\n",
    "e_ingress   = -0.015276 - (-0.019424)  # days\n",
    "e_transit_t = 0.020376 - (-0.019424)   # days\n",
    "\n",
    "e_k = get_radius_ratio(e_transit_d)\n",
    "e_b = get_impact_param(e_k,e_transit_t,e_ingress)\n",
    "e_rho = get_density(e_P,e_transit_t,e_b)\n",
    "\n",
    "print('The radius ratio for planet '+ planets[i] + ' is:      '+ str(round(e_k,4)))\n",
    "print('The impact parameter for planet '+ planets[i] + ' is:  '+ str(round(e_b,4)))\n",
    "print('The density for planet '+ planets[i] + ' is:          ', round(e_rho,4),r'g cm^-3')"
   ]
  },
  {
   "cell_type": "code",
   "execution_count": 12,
   "metadata": {
    "collapsed": false
   },
   "outputs": [
    {
     "data": {
      "image/png": "[encoded data removed]",
      "text/plain": [
       "<matplotlib.figure.Figure at 0x10ece9a20>"
      ]
     },
     "metadata": {},
     "output_type": "display_data"
    },
    {
     "name": "stdout",
     "output_type": "stream",
     "text": [
      "The radius ratio for planet f is:      0.0862\n",
      "The impact parameter for planet f is:  0.3917\n",
      "The density for planet f is:           50.689 g cm^-3\n"
     ]
    }
   ],
   "source": [
    "# Planet f: get radius ratio, impact parameters, and density\n",
    "i = 4\n",
    "plt.plot(df_f.TimefromMidTransit,df_f.Flux,'.',alpha=0.5,color=colors[i])\n",
    "plt.xlim(-0.03,0.03)\n",
    "plt.plot(-0.021508,1.001026,'o',color='Grey')\n",
    "plt.plot(-0.017009,0.993602,'o',color='Grey')\n",
    "plt.plot(0.022694,1.000324,'o',color='Grey')\n",
    "plt.show()\n",
    "#print(df_f[(df_f.TimefromMidTransit < 0.03) & (df_f.TimefromMidTransit > 0.01)])\n",
    "\n",
    "# Index values for ingress/transit depth: 4271, 4277 ; and transit duration: 4327\n",
    "f_transit_d = 1.001026 - 0.993602      # flux\n",
    "f_ingress   = -0.017009 - (-0.021508)  # days\n",
    "f_transit_t = 0.022694 - (-0.021508)   # days\n",
    "\n",
    "f_k = get_radius_ratio(f_transit_d)\n",
    "f_b = get_impact_param(f_k,f_transit_t,f_ingress)\n",
    "f_rho = get_density(f_P,f_transit_t,f_b)\n",
    "\n",
    "print('The radius ratio for planet '+ planets[i] + ' is:      '+ str(round(f_k,4)))\n",
    "print('The impact parameter for planet '+ planets[i] + ' is:  '+ str(round(f_b,4)))\n",
    "print('The density for planet '+ planets[i] + ' is:          ', round(f_rho,4),r'g cm^-3')"
   ]
  },
  {
   "cell_type": "code",
   "execution_count": 13,
   "metadata": {
    "collapsed": false
   },
   "outputs": [
    {
     "data": {
      "image/png": "[encoded data removed]",
      "text/plain": [
       "<matplotlib.figure.Figure at 0x10eb79048>"
      ]
     },
     "metadata": {},
     "output_type": "display_data"
    },
    {
     "name": "stdout",
     "output_type": "stream",
     "text": [
      "The radius ratio for planet g is:      0.0841\n",
      "The impact parameter for planet g is:  0.6543\n",
      "The density for planet g is:           24.6917 g cm^-3\n"
     ]
    }
   ],
   "source": [
    "# Planet g: get radius ratio, impact parameters, and density\n",
    "i = 5\n",
    "plt.plot(df_g.TimefromMidTransit,df_g.Flux,'.',alpha=0.5,color=colors[i])\n",
    "plt.xlim(-0.04,0.04)\n",
    "plt.plot(-0.024121,1.000194,'o',color='Grey')\n",
    "plt.plot(-0.016632,0.993122,'o',color='Grey')\n",
    "plt.plot(0.026805,1.000164,'o',color='Grey')\n",
    "plt.show()\n",
    "#print(df_g[(df_g.TimefromMidTransit < 0.03) & (df_g.TimefromMidTransit > 0.01)])\n",
    "\n",
    "# Index values for ingress/transit depth: 4271, 4277 ; and transit duration: 4327\n",
    "g_transit_d = 1.000194 - 0.993122      # flux\n",
    "g_ingress   = -0.016632 - (-0.024121)  # days\n",
    "g_transit_t = 0.026805 - (-0.024121)   # days\n",
    "\n",
    "g_k = get_radius_ratio(g_transit_d)\n",
    "g_b = get_impact_param(g_k,g_transit_t,g_ingress)\n",
    "g_rho = get_density(g_P,g_transit_t,g_b)\n",
    "\n",
    "print('The radius ratio for planet '+ planets[i] + ' is:      '+ str(round(g_k,4)))\n",
    "print('The impact parameter for planet '+ planets[i] + ' is:  '+ str(round(g_b,4)))\n",
    "print('The density for planet '+ planets[i] + ' is:          ', round(g_rho,4),r'g cm^-3')"
   ]
  },
  {
   "cell_type": "code",
   "execution_count": 14,
   "metadata": {
    "collapsed": false
   },
   "outputs": [
    {
     "data": {
      "image/png": "[encoded data removed]",
      "text/plain": [
       "<matplotlib.figure.Figure at 0x10ed65940>"
      ]
     },
     "metadata": {},
     "output_type": "display_data"
    },
    {
     "name": "stdout",
     "output_type": "stream",
     "text": [
      "The radius ratio for planet h is:      0.0604\n",
      "The impact parameter for planet h is:  0.8145\n"
     ]
    }
   ],
   "source": [
    "# Planet h: get radius ratio, impact parameters, and density\n",
    "i = 6\n",
    "plt.plot(df_h.TimefromMidTransit,df_h.Flux,'.',alpha=0.5,color=colors[i])\n",
    "plt.xlim(-0.04,0.04)\n",
    "plt.plot(-0.027606,0.999769,'o',color='Grey')\n",
    "plt.plot(-0.017122,0.996121,'o',color='Grey')\n",
    "plt.plot(0.030809,1.000054,'o',color='Grey')\n",
    "plt.show()\n",
    "#print(df_h[(df_h.TimefromMidTransit < 0.04) & (df_h.TimefromMidTransit > 0.01)])\n",
    "\n",
    "# Index values for ingress/transit depth: 4271, 4277 ; and transit duration: 4327\n",
    "h_transit_d = 0.999769 - 0.996121      # flux\n",
    "h_ingress   = -0.017122 - (-0.027606)  # days\n",
    "h_transit_t = 0.030809 - (-0.027606)   # days\n",
    "\n",
    "h_k = get_radius_ratio(h_transit_d)\n",
    "h_b = get_impact_param(h_k,h_transit_t,h_ingress)\n",
    "#g_rho = get_density(g_P,g_transit_t,g_b)\n",
    "\n",
    "print('The radius ratio for planet '+ planets[i] + ' is:      '+ str(round(h_k,4)))\n",
    "print('The impact parameter for planet '+ planets[i] + ' is:  '+ str(round(h_b,4)))\n",
    "#print('The density for planet '+ planets[i] + ' is:          ', round(g_rho,4))"
   ]
  },
  {
   "cell_type": "markdown",
   "metadata": {},
   "source": [
    "$\\textbf{Part b:}$\n"
   ]
  },
  {
   "cell_type": "markdown",
   "metadata": {},
   "source": [
    "The three main advantages of observing the Trappist-1 system with Spitzer:\n",
    "- No atmospheric noise\n",
    "- Continuous observations (since the telescope is in space; i.e. no day/night limitations)\n",
    "- High precision"
   ]
  },
  {
   "cell_type": "markdown",
   "metadata": {},
   "source": [
    "$\\textbf{Part d:}$"
   ]
  },
  {
   "cell_type": "code",
   "execution_count": 15,
   "metadata": {
    "collapsed": false
   },
   "outputs": [
    {
     "name": "stdout",
     "output_type": "stream",
     "text": [
      "Average density of star:  33.69634 g cm^-3\n",
      "0.11600696479262561 R_sun\n",
      "0.0373334505704 M_sun\n"
     ]
    }
   ],
   "source": [
    "# Part d: Determine mass and radius of star\n",
    "astar_rho = np.average([b_rho,c_rho,d_rho,e_rho,f_rho,g_rho])\n",
    "print('Average density of star: ', round(astar_rho,5),r'g cm^-3')\n",
    "\n",
    "astar_radius = get_stellar_radius(astar_F_bol,astar_T_eff,astar_dist) # cm\n",
    "print(astar_radius/R_sun,'R_sun')\n",
    "\n",
    "astar_mass   = (4*pi/3)*astar_rho*astar_radius**3. # g\n",
    "print(astar_mass/M_sun,'M_sun')"
   ]
  },
  {
   "cell_type": "markdown",
   "metadata": {},
   "source": [
    "The mass and radius of the Trappist-1 Star are ~0.04 M$_{\\odot}$ and ~0.12 R$_{\\odot}$, repectively."
   ]
  },
  {
   "cell_type": "markdown",
   "metadata": {},
   "source": [
    "$\\textbf{Part e:}$\n",
    "\n",
    "Given that we know the period of Planet g is ~12.4 days and we know that Planet h is the next planet out (given that transit depth is smaller and the transit duration is longer), I would estimate that Planet h has a period between 15 to 18 days."
   ]
  },
  {
   "cell_type": "markdown",
   "metadata": {},
   "source": [
    "$\\textbf{Part f:}$"
   ]
  },
  {
   "cell_type": "code",
   "execution_count": 16,
   "metadata": {
    "collapsed": false,
    "scrolled": false
   },
   "outputs": [
    {
     "data": {
      "image/png": "[encoded data removed]",
      "text/plain": [
       "<matplotlib.figure.Figure at 0x10ebfc8d0>"
      ]
     },
     "metadata": {},
     "output_type": "display_data"
    }
   ],
   "source": [
    "# Part f: Estimate a 100 day RV curve for all the planets\n",
    "b_RV = np.arange(0,100,b_P)\n",
    "c_RV = np.arange(0,100,c_P)\n",
    "d_RV = np.arange(0,100,d_P)\n",
    "e_RV = np.arange(0,100,e_P)\n",
    "f_RV = np.arange(0,100,f_P)\n",
    "g_RV = np.arange(0,100,g_P)\n",
    "#print(g_RV)\n",
    "\n",
    "off = 0.001\n",
    "plt.figure(figsize=(20,10))\n",
    "plt.plot(b_RV,np.ones(len(b_RV)),'o',color=colors[0],label=planets[0])\n",
    "plt.plot(c_RV,np.ones(len(c_RV))-off,'o',color=colors[1],label=planets[1])\n",
    "plt.plot(d_RV,np.ones(len(d_RV))-off*2,'o',color=colors[2],label=planets[2])\n",
    "plt.plot(e_RV,np.ones(len(e_RV))-off*3,'o',color=colors[3],label=planets[3])\n",
    "plt.plot(f_RV,np.ones(len(f_RV))-off*4,'o',color=colors[4],label=planets[4])\n",
    "plt.plot(g_RV,np.ones(len(g_RV))-off*5,'o',color=colors[5],label=planets[5])\n",
    "plt.xlabel('Transit Period [Days]',size=18)\n",
    "plt.ylim(0.994,1.001)\n",
    "plt.legend(prop={'size':18})\n",
    "plt.show()"
   ]
  },
  {
   "cell_type": "code",
   "execution_count": 17,
   "metadata": {
    "collapsed": false
   },
   "outputs": [],
   "source": [
    "k_1,k_2,k_3 = -0.20945,0.0804,0.394\n",
    "\n",
    "b_radius  = b_k*astar_radius/R_earth # R_earth\n",
    "radius    = b_radius\n",
    "b_M_water = scipy.optimize.fsolve(get_mass_watery,0.5)\n",
    "b_M_rocky = scipy.optimize.fsolve(get_mass_rocky,0.5)\n",
    "b_M_earth = scipy.optimize.fsolve(get_mass_earthy,0.5)\n",
    "\n",
    "c_radius = c_k*astar_radius/R_earth\n",
    "radius   = c_radius \n",
    "c_M_water = scipy.optimize.fsolve(get_mass_watery,0.5)\n",
    "c_M_rocky = scipy.optimize.fsolve(get_mass_rocky,0.5)\n",
    "c_M_earth = scipy.optimize.fsolve(get_mass_earthy,0.5)\n",
    "\n",
    "d_radius = d_k*astar_radius/R_earth\n",
    "radius   = d_radius\n",
    "d_M_water = scipy.optimize.fsolve(get_mass_watery,0.5)\n",
    "d_M_rocky = scipy.optimize.fsolve(get_mass_rocky,0.5)\n",
    "d_M_earth = scipy.optimize.fsolve(get_mass_earthy,0.5)\n",
    "\n",
    "e_radius = e_k*astar_radius/R_earth\n",
    "radius   = e_radius\n",
    "e_M_water = scipy.optimize.fsolve(get_mass_watery,0.5)\n",
    "e_M_rocky = scipy.optimize.fsolve(get_mass_rocky,0.5)\n",
    "e_M_earth = scipy.optimize.fsolve(get_mass_earthy,0.5)\n",
    "\n",
    "f_radius = f_k*astar_radius/R_earth\n",
    "radius   = f_radius\n",
    "f_M_water = scipy.optimize.fsolve(get_mass_watery,0.5)\n",
    "f_M_rocky = scipy.optimize.fsolve(get_mass_rocky,0.5)\n",
    "f_M_earth = scipy.optimize.fsolve(get_mass_earthy,0.5)\n",
    "\n",
    "g_radius = g_k*astar_radius/R_earth\n",
    "radius   = g_radius\n",
    "g_M_water = scipy.optimize.fsolve(get_mass_watery,0.5)\n",
    "g_M_rocky = scipy.optimize.fsolve(get_mass_rocky,0.5)\n",
    "g_M_earth = scipy.optimize.fsolve(get_mass_earthy,0.5)\n",
    "\n",
    "h_radius = h_k*astar_radius/R_earth\n",
    "radius   = h_radius\n",
    "h_M_water = scipy.optimize.fsolve(get_mass_watery,0.5)\n",
    "h_M_rocky = scipy.optimize.fsolve(get_mass_rocky,0.5)\n",
    "h_M_earth = scipy.optimize.fsolve(get_mass_earthy,0.5)"
   ]
  },
  {
   "cell_type": "code",
   "execution_count": 18,
   "metadata": {
    "collapsed": false
   },
   "outputs": [
    {
     "name": "stdout",
     "output_type": "stream",
     "text": [
      "       Radius, M_water, M_rocky, M_earth [R and M in earth units]\n",
      "Planet b: 1.141  1.1182 1.3491 1.7372\n",
      "Planet c: 1.0547 0.8593 1.0361 1.327\n",
      "Planet d: 0.7551 0.2888 0.3477 0.4382\n",
      "Planet e: 0.9673 0.6452 0.7776 0.9909\n",
      "Planet f: 1.0908 0.9614 1.1595 1.4883\n",
      "Planet g: 1.0646 0.8864 1.069  1.3699\n",
      "Planet h: 0.7646 0.3006 0.3619 0.4564\n"
     ]
    }
   ],
   "source": [
    "print('       Radius, M_water, M_rocky, M_earth [R and M in earth units]')\n",
    "print('Planet b:',round(b_radius,4),'',round(b_M_water[0],4),\n",
    "      round(b_M_rocky[0],4),round(b_M_earth[0],4))\n",
    "print('Planet c:',round(c_radius,4),round(c_M_water[0],4),\n",
    "      round(c_M_rocky[0],4),round(c_M_earth[0],4))\n",
    "print('Planet d:',round(d_radius,4),round(d_M_water[0],4),\n",
    "      round(d_M_rocky[0],4),round(d_M_earth[0],4))\n",
    "print('Planet e:',round(e_radius,4),round(e_M_water[0],4),\n",
    "      round(e_M_rocky[0],4),round(e_M_earth[0],4))\n",
    "print('Planet f:',round(f_radius,4),round(f_M_water[0],4),\n",
    "      round(f_M_rocky[0],4),round(f_M_earth[0],4))\n",
    "print('Planet g:',round(g_radius,4),round(g_M_water[0],4),\n",
    "      round(g_M_rocky[0],4),'',round(g_M_earth[0],4))\n",
    "print('Planet h:',round(h_radius,4),round(h_M_water[0],4),\n",
    "      round(h_M_rocky[0],4),round(h_M_earth[0],4))"
   ]
  },
  {
   "cell_type": "code",
   "execution_count": 19,
   "metadata": {
    "collapsed": false
   },
   "outputs": [
    {
     "name": "stdout",
     "output_type": "stream",
     "text": [
      "Planet:                    b      c      d      e      f      g \n",
      "Earth RV semi_amplitude: 8.6649 5.656  1.5736 3.1043 4.0645 3.3919 m/s\n",
      "Rocky RV semi_amplitude: 6.7293 4.4161 1.2485 2.4361 3.1665 2.6468 m/s\n",
      "Water RV semi_amplitude: 5.5777 3.6624 1.0372 2.0214 2.6255 2.1949 m/s\n"
     ]
    }
   ],
   "source": [
    "b_A_earth = get_RV_amp(b_P,b_M_earth,astar_mass) # cm/s\n",
    "c_A_earth = get_RV_amp(c_P,c_M_earth,astar_mass)\n",
    "d_A_earth = get_RV_amp(d_P,d_M_earth,astar_mass)\n",
    "e_A_earth = get_RV_amp(e_P,e_M_earth,astar_mass)\n",
    "f_A_earth = get_RV_amp(f_P,f_M_earth,astar_mass)\n",
    "g_A_earth = get_RV_amp(g_P,g_M_earth,astar_mass)\n",
    "\n",
    "b_A_rocky = get_RV_amp(b_P,b_M_rocky,astar_mass) # cm/s\n",
    "c_A_rocky = get_RV_amp(c_P,c_M_rocky,astar_mass)\n",
    "d_A_rocky = get_RV_amp(d_P,d_M_rocky,astar_mass)\n",
    "e_A_rocky = get_RV_amp(e_P,e_M_rocky,astar_mass)\n",
    "f_A_rocky = get_RV_amp(f_P,f_M_rocky,astar_mass)\n",
    "g_A_rocky = get_RV_amp(g_P,g_M_rocky,astar_mass)\n",
    "\n",
    "b_A_water = get_RV_amp(b_P,b_M_water,astar_mass) # cm/s\n",
    "c_A_water = get_RV_amp(c_P,c_M_water,astar_mass)\n",
    "d_A_water = get_RV_amp(d_P,d_M_water,astar_mass)\n",
    "e_A_water = get_RV_amp(e_P,e_M_water,astar_mass)\n",
    "f_A_water = get_RV_amp(f_P,f_M_water,astar_mass)\n",
    "g_A_water = get_RV_amp(g_P,g_M_water,astar_mass)\n",
    "\n",
    "print('Planet:                    b      c      d      e      f      g ')\n",
    "print('Earth RV semi_amplitude:',round((b_A_earth[0]/100),4),round(c_A_earth[0]/100,4),'',\n",
    "      round(d_A_earth[0]/100,4),round(e_A_earth[0]/100,4),\n",
    "      round(f_A_earth[0]/100,4),round(g_A_earth[0]/100,4),'m/s') # m/s\n",
    "print('Rocky RV semi_amplitude:',round(b_A_rocky[0]/100,4),round(c_A_rocky[0]/100,4),\n",
    "      round(d_A_rocky[0]/100,4),round(e_A_rocky[0]/100,4),\n",
    "      round(f_A_rocky[0]/100,4),round(g_A_rocky[0]/100,4),'m/s') # m/s\n",
    "print('Water RV semi_amplitude:',round(b_A_water[0]/100,4),round(c_A_water[0]/100,4),\n",
    "      round(d_A_water[0]/100,4),round(e_A_water[0]/100,4),\n",
    "      round(f_A_water[0]/100,4),round(g_A_water[0]/100,4),'m/s') # m/s\n"
   ]
  },
  {
   "cell_type": "markdown",
   "metadata": {},
   "source": [
    "When you examine a RV curve over about a 100 day range, it's noticable that a conjunction between the 6 inner planets (since we don't have a reliable Planet h period) occurs roughly every 37 days. Additionally, the RV calculations that assume an Earth-like composition have the greatest RV amplitudes. (Though they do all seem a bit small considering Earth has velocity of ~30 km/s; Maybe this has to do with the small mass of the Trappist-1 A star (M$_{Astar}$ ~ 0.03 M$_{\\odot}$)? )"
   ]
  },
  {
   "cell_type": "markdown",
   "metadata": {},
   "source": [
    "$\\textbf{Part g:}$"
   ]
  },
  {
   "cell_type": "code",
   "execution_count": 20,
   "metadata": {
    "collapsed": false
   },
   "outputs": [
    {
     "name": "stdout",
     "output_type": "stream",
     "text": [
      "9.300196970511157 2.6639466617140144 3.906182624328031 1.0263339239657445 0.48121111329521365 0.5252370621111275\n"
     ]
    }
   ],
   "source": [
    "# Part g: Estimate flux incident on planets\n",
    "# F_inc = sigma*T_eff^4 * (R/a)^2\n",
    "# T = 2R*P*(1-b^2)**0.5/(2\\pi a)\n",
    "b_R_a = b_transit_t*pi/(b_P*(1 - b_b**2)**0.5) \n",
    "c_R_a = c_transit_t*pi/(c_P*(1 - c_b**2)**0.5)\n",
    "d_R_a = d_transit_t*pi/(d_P*(1 - d_b**2)**0.5)\n",
    "e_R_a = e_transit_t*pi/(e_P*(1 - e_b**2)**0.5)\n",
    "f_R_a = f_transit_t*pi/(f_P*(1 - f_b**2)**0.5)\n",
    "g_R_a = g_transit_t*pi/(g_P*(1 - g_b**2)**0.5)\n",
    "\n",
    "b_F_inc = (sigma*(astar_T_eff**4.)*(b_R_a)**2.)/F_inc_earth # E_incident flux\n",
    "c_F_inc = (sigma*(astar_T_eff**4.)*(c_R_a)**2.)/F_inc_earth\n",
    "d_F_inc = (sigma*(astar_T_eff**4.)*(d_R_a)**2.)/F_inc_earth\n",
    "e_F_inc = (sigma*(astar_T_eff**4.)*(e_R_a)**2.)/F_inc_earth\n",
    "f_F_inc = (sigma*(astar_T_eff**4.)*(f_R_a)**2.)/F_inc_earth\n",
    "g_F_inc = (sigma*(astar_T_eff**4.)*(g_R_a)**2.)/F_inc_earth\n",
    "print(b_F_inc,c_F_inc,d_F_inc,e_F_inc,f_F_inc,g_F_inc)"
   ]
  },
  {
   "cell_type": "markdown",
   "metadata": {},
   "source": [
    "The incident flux on each of the planets is:\n",
    "- F$_{inc,b}$ ~ 9.30 F$_{inc,\\oplus}$ \n",
    "- F$_{inc,c}$ ~ 2.66 F$_{inc,\\oplus}$\n",
    "- F$_{inc,d}$ ~ 3.91 F$_{inc,\\oplus}$\n",
    "- F$_{inc,e}$ ~ 1.03 F$_{inc,\\oplus}$\n",
    "- F$_{inc,f}$ ~ 0.48 F$_{inc,\\oplus}$\n",
    "- F$_{inc,g}$ ~ 0.52 F$_{inc,\\oplus}$\n",
    "\n",
    "With the values in units of the incident flux at Earth, we'd probably want to visit Planet F first, though I would probably still want to bring sweaters just in case."
   ]
  },
  {
   "cell_type": "code",
   "execution_count": null,
   "metadata": {
    "collapsed": true
   },
   "outputs": [],
   "source": []
  }
 ],
 "metadata": {
  "anaconda-cloud": {},
  "kernelspec": {
   "display_name": "Python [conda root]",
   "language": "python",
   "name": "conda-root-py"
  },
  "language_info": {
   "codemirror_mode": {
    "name": "ipython",
    "version": 3
   },
   "file_extension": ".py",
   "mimetype": "text/x-python",
   "name": "python",
   "nbconvert_exporter": "python",
   "pygments_lexer": "ipython3",
   "version": "3.5.2"
  }
 },
 "nbformat": 4,
 "nbformat_minor": 2
}
